{
 "cells": [
  {
   "cell_type": "code",
   "execution_count": 1,
   "id": "ad2c6fff-faf1-44cc-925b-639a1bc8555f",
   "metadata": {},
   "outputs": [],
   "source": [
    "import numpy as np"
   ]
  },
  {
   "cell_type": "code",
   "execution_count": 2,
   "id": "aea4538c-000c-412b-8fe2-382a4c77dcc2",
   "metadata": {},
   "outputs": [],
   "source": [
    "import math\n",
    "\n",
    "def sigmoid(x) :\n",
    "    return 1 / (1 + math.exp(-x))"
   ]
  },
  {
   "cell_type": "code",
   "execution_count": 5,
   "id": "27d40244-4bd5-4e48-bc48-5578636de568",
   "metadata": {},
   "outputs": [],
   "source": [
    "'''\n",
    "X, y 를 가장 잘 설명하는 parameter (w1, w2, w3)를 반환하는\n",
    "함수를 작성하세요. 여기서 X는 (x1, x2, x3) 의 list이며, y 는\n",
    "0 혹은 1로 이루어진 list입니다. 예를 들어, X, y는 다음의 값을\n",
    "가질 수 있습니다.\n",
    "\n",
    "    X = [(1, 0, 0), (1, 0, 1), (0, 0, 1)]\n",
    "    y = [0, 1, 1]\n",
    "1. 지시 사항을 따라서 getParameters 함수를 완성하세요.\n",
    "\n",
    "Step01. X의 한 원소가 3개이므로 가중치도 3개가 있어야 합니다.\n",
    "        초기 가중치 w를 [1,1,1]로 정의하는 코드를 작성하세요.\n",
    "        \n",
    "        단순히 f = 3, w = [1,1,1]이라고 하는 것보다 좀 더 \n",
    "        좋은 표현을 생각해보세요.\n",
    "        \n",
    "Step02. 초기 가중치 w를 모델에 맞게 계속 업데이트 해야합니다.\n",
    "            \n",
    "        업데이트를 위해 초기 가중치 w에 더해지는 값들의 리스트\n",
    "        wPrime을 [0,0,0]로 정의하는 코드를 작성하세요.  \n",
    "            \n",
    "        마찬가지로 단순히 wPrime = [0,0,0]이라고 하는 것보다\n",
    "        좀 더 좋은 표현을 생각해보세요.\n",
    "        \n",
    "Step03. sigmoid 함수를 통과할 r값을 정의해야합니다. r은 \n",
    "        X의 각 값과 그에 해당하는 가중치 w의 곱의 합입니다.\n",
    "            \n",
    "        즉, r = X_0_0 * w_0 + X_1_0 * w_0 + ... + X_2_2 * w_2\n",
    "        가 됩니다.\n",
    "            \n",
    "        그리고 sigmoid 함수를 통과한 r값을 v로 정의합시다.\n",
    "    \n",
    "Step04. 가중치 w가 더이상 업데이트가 안될 때까지 업데이트 해줘야합니다.\n",
    "        즉, 가중치 w의 업데이트를 위해 더해지는 wPrime의 절댓값이 어느 정도까지\n",
    "        작아지면 업데이트를 끝내야 합니다. \n",
    "            \n",
    "        그 값을 0.001로 정하고, wPrime이 그 값을 넘지 못하면 가중치 \n",
    "        업데이트를 끝내도록 합시다. \n",
    "        \n",
    "        다만 wPrime의 절댓값이 0.001보다 작아지기 전까지는 w에 wPrime을 계속\n",
    "        더하면서 w를 업데이트 합시다.    \n",
    "'''\n",
    "\n",
    "def getParameters(X, y) :    \n",
    "    # Step01.    \n",
    "    f = len(X[0])\n",
    "    w = [1] * f\n",
    "    values = [] \n",
    "    while True : \n",
    "        # Step02.  \n",
    "        wPrime = [0] * f     \n",
    "        # Step03.    \n",
    "        for i in range(len(y)) :\n",
    "            r = 0\n",
    "            for j in range(f) :\n",
    "                r = r + X[i][j] * w[j]\n",
    "            v = sigmoid(r)\n",
    "            # w를 업데이트하기 위한 wPrime을 역전파를 이용해 구하는 식\n",
    "            for j in range(f) :\n",
    "                wPrime[j] += -((v - y[i]) * v * (1-v) * X[i][j])\n",
    "        # Step04.\n",
    "        flag = False\n",
    "        \n",
    "        for i in range(f) :\n",
    "            if abs(wPrime[i]) >= 0.001 :\n",
    "                flag = True\n",
    "                break\n",
    "        if flag == False :\n",
    "            break\n",
    "        for j in range(f) :\n",
    "            w[j] = w[j] + wPrime[j]\n",
    "    return w"
   ]
  },
  {
   "cell_type": "code",
   "execution_count": 6,
   "id": "bf5f43ea-5d29-4b1d-b0cb-582c5b83730a",
   "metadata": {},
   "outputs": [
    {
     "name": "stdout",
     "output_type": "stream",
     "text": [
      "[-3.190099496188209, 1.0, 6.595949389250627]\n"
     ]
    }
   ],
   "source": [
    "def main():\n",
    "    \n",
    "    '''\n",
    "    이 코드는 수정하지 마세요.\n",
    "    '''\n",
    "    \n",
    "    X = [(1, 0, 0), (1, 0, 1), (0, 0, 1)]\n",
    "    y = [0, 1, 1]\n",
    "    \n",
    "    '''\n",
    "    # 아래의 예제 또한 테스트 해보세요.\n",
    "    X = [(0, 0, 0), (0, 0, 1), (0, 1, 0), (0, 1, 1), (1, 0, 0), (1, 0, 1), (1, 1, 0), (1, 1, 1)]\n",
    "    y = [0, 0, 1, 1, 1, 1, 1, 1]\n",
    "\n",
    "    # 아래의 예제를 perceptron이 100% training할 수 있는지도 확인해봅니다.\n",
    "    X = [(0, 0, 0), (0, 0, 1), (0, 1, 0), (0, 1, 1), (1, 0, 0), (1, 0, 1), (1, 1, 0), (1, 1, 1)]\n",
    "    y = [0, 0, 0, 1, 0, 1, 1, 1]\n",
    "    '''\n",
    "    \n",
    "    print(getParameters(X, y))\n",
    "\n",
    "if __name__ == \"__main__\":\n",
    "    main()"
   ]
  },
  {
   "cell_type": "code",
   "execution_count": null,
   "id": "cb661406-c23c-4c44-984f-8b7a635ee5a7",
   "metadata": {},
   "outputs": [],
   "source": []
  }
 ],
 "metadata": {
  "kernelspec": {
   "display_name": "Python 3 (ipykernel)",
   "language": "python",
   "name": "python3"
  },
  "language_info": {
   "codemirror_mode": {
    "name": "ipython",
    "version": 3
   },
   "file_extension": ".py",
   "mimetype": "text/x-python",
   "name": "python",
   "nbconvert_exporter": "python",
   "pygments_lexer": "ipython3",
   "version": "3.8.19"
  }
 },
 "nbformat": 4,
 "nbformat_minor": 5
}
