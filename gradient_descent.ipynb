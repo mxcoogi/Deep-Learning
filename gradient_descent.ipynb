{
 "cells": [
  {
   "cell_type": "code",
   "execution_count": 1,
   "id": "fc5a6899-c892-4f22-87ea-624ffda24630",
   "metadata": {},
   "outputs": [],
   "source": [
    "import numpy as np"
   ]
  },
  {
   "cell_type": "code",
   "execution_count": 2,
   "id": "e1b59583-45c3-4838-b17b-f889f85e4db6",
   "metadata": {},
   "outputs": [],
   "source": [
    "def linear_model(w0, w1, X):\n",
    "    f_x = w0 + w1 * X\n",
    "    return f_x"
   ]
  },
  {
   "cell_type": "code",
   "execution_count": 3,
   "id": "d12580c5-e41a-4df4-b1fa-6b61b63b3f59",
   "metadata": {},
   "outputs": [],
   "source": [
    "def loss(f_x , y):\n",
    "    ls = np.mean(np.square(y - f_x))\n",
    "    return ls"
   ]
  },
  {
   "cell_type": "code",
   "execution_count": 4,
   "id": "588d6978-536c-4f51-9134-72aac8570f0b",
   "metadata": {},
   "outputs": [],
   "source": [
    "def gradient_descent(w0, w1, X, y):\n",
    "    gradient0 = 2 * np.mean((y - (w0 + w1*X)) * (-1))\n",
    "    gradient1 = 2 * np.mean((y - (w0 + w1 * X)) * (-1 * X))\n",
    "    return np.array([gradient0, gradient1])"
   ]
  },
  {
   "cell_type": "code",
   "execution_count": 10,
   "id": "e27cb007-7b5e-4d0e-8caf-86644e2c9a4c",
   "metadata": {},
   "outputs": [],
   "source": [
    "def main():\n",
    "    X = np.array([1,2,3,4]).reshape((-1,1))\n",
    "    y = np.array([3.1, 4.9, 7.2, 8.9]).reshape((-1,1))\n",
    "    w0 = 0\n",
    "    w1 = 1\n",
    "    lr = 0.001\n",
    "    for i in range(1000):\n",
    "        gd = gradient_descent(w0,w1,X, y)\n",
    "        w0 = w0 - (lr * gd[0])\n",
    "        w1 = w1 - (lr * gd[1])\n",
    "        if i % 100 == 0:\n",
    "            ls = loss(linear_model(w0, w1, X), y)\n",
    "            print(f\"{i}번째 loss : {ls}\")\n",
    "            print(f\"{i}번째 w0, w1 : {w0}, {w1}\")\n",
    "    return w0, w1            "
   ]
  },
  {
   "cell_type": "code",
   "execution_count": 11,
   "id": "88038aca-feb1-4145-9e88-bb7984443360",
   "metadata": {},
   "outputs": [
    {
     "name": "stdout",
     "output_type": "stream",
     "text": [
      "0번째 loss : 13.169566483750003\n",
      "0번째 w0, w1 : 0.00705, 1.02005\n",
      "100번째 loss : 0.5410212035571164\n",
      "100번째 w0, w1 : 0.3555463483354425, 1.9779006081638566\n",
      "200번째 loss : 0.10180859765610702\n",
      "200번째 w0, w1 : 0.43620420728162307, 2.1502431207595114\n",
      "300번째 loss : 0.08272824073099962\n",
      "300번째 w0, w1 : 0.46668003716323536, 2.176955967432312\n",
      "400번째 loss : 0.07834991603515173\n",
      "400번째 w0, w1 : 0.4873846890411848, 2.1767955861894746\n",
      "500번째 loss : 0.074694336937277\n",
      "500번째 w0, w1 : 0.5058318934139722, 2.1717985324362266\n",
      "600번째 loss : 0.0712673826901807\n",
      "600번째 w0, w1 : 0.5234292910075393, 2.1660503275013476\n",
      "700번째 loss : 0.06804018968241979\n",
      "700번째 w0, w1 : 0.5404508485455726, 2.160304919745115\n",
      "800번째 loss : 0.06500060950516073\n",
      "800번째 w0, w1 : 0.5569597484177288, 2.1546980465058474\n",
      "900번째 loss : 0.06213771792110568\n",
      "900번째 w0, w1 : 0.5729796876731722, 2.149250829172347\n"
     ]
    },
    {
     "data": {
      "text/plain": [
       "(0.5883735054566963, 2.1440153341053083)"
      ]
     },
     "execution_count": 11,
     "metadata": {},
     "output_type": "execute_result"
    }
   ],
   "source": [
    "main()"
   ]
  },
  {
   "cell_type": "code",
   "execution_count": null,
   "id": "5b7c0157-7ad6-465f-b7f8-264f5116fd36",
   "metadata": {},
   "outputs": [],
   "source": []
  }
 ],
 "metadata": {
  "kernelspec": {
   "display_name": "Python 3 (ipykernel)",
   "language": "python",
   "name": "python3"
  },
  "language_info": {
   "codemirror_mode": {
    "name": "ipython",
    "version": 3
   },
   "file_extension": ".py",
   "mimetype": "text/x-python",
   "name": "python",
   "nbconvert_exporter": "python",
   "pygments_lexer": "ipython3",
   "version": "3.8.19"
  }
 },
 "nbformat": 4,
 "nbformat_minor": 5
}
